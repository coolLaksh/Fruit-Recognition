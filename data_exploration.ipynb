{
 "cells": [
  {
   "cell_type": "code",
   "execution_count": 1,
   "metadata": {},
   "outputs": [],
   "source": [
    "import numpy as np\n",
    "import pandas as pd"
   ]
  },
  {
   "cell_type": "code",
   "execution_count": 2,
   "metadata": {},
   "outputs": [],
   "source": [
    "df = pd.read_csv('./dataset/train.csv')"
   ]
  },
  {
   "cell_type": "code",
   "execution_count": 3,
   "metadata": {},
   "outputs": [
    {
     "data": {
      "text/html": [
       "<div>\n",
       "<style scoped>\n",
       "    .dataframe tbody tr th:only-of-type {\n",
       "        vertical-align: middle;\n",
       "    }\n",
       "\n",
       "    .dataframe tbody tr th {\n",
       "        vertical-align: top;\n",
       "    }\n",
       "\n",
       "    .dataframe thead th {\n",
       "        text-align: right;\n",
       "    }\n",
       "</style>\n",
       "<table border=\"1\" class=\"dataframe\">\n",
       "  <thead>\n",
       "    <tr style=\"text-align: right;\">\n",
       "      <th></th>\n",
       "      <th>ID</th>\n",
       "      <th>n0</th>\n",
       "      <th>n1</th>\n",
       "      <th>n2</th>\n",
       "      <th>n3</th>\n",
       "      <th>n4</th>\n",
       "      <th>n5</th>\n",
       "      <th>n6</th>\n",
       "      <th>n7</th>\n",
       "      <th>n8</th>\n",
       "      <th>...</th>\n",
       "      <th>n4087</th>\n",
       "      <th>n4088</th>\n",
       "      <th>n4089</th>\n",
       "      <th>n4090</th>\n",
       "      <th>n4091</th>\n",
       "      <th>n4092</th>\n",
       "      <th>n4093</th>\n",
       "      <th>n4094</th>\n",
       "      <th>n4095</th>\n",
       "      <th>category</th>\n",
       "    </tr>\n",
       "  </thead>\n",
       "  <tbody>\n",
       "    <tr>\n",
       "      <th>0</th>\n",
       "      <td>0</td>\n",
       "      <td>0.000000</td>\n",
       "      <td>0.000000</td>\n",
       "      <td>1.272801</td>\n",
       "      <td>0.290501</td>\n",
       "      <td>0.581446</td>\n",
       "      <td>0.000000</td>\n",
       "      <td>0.000000</td>\n",
       "      <td>0</td>\n",
       "      <td>0.000000</td>\n",
       "      <td>...</td>\n",
       "      <td>1.645888</td>\n",
       "      <td>0.869640</td>\n",
       "      <td>0.302432</td>\n",
       "      <td>0.953719</td>\n",
       "      <td>0.022545</td>\n",
       "      <td>0.498048</td>\n",
       "      <td>0.000000</td>\n",
       "      <td>0.034988</td>\n",
       "      <td>0.692382</td>\n",
       "      <td>Orange_Ripe</td>\n",
       "    </tr>\n",
       "    <tr>\n",
       "      <th>1</th>\n",
       "      <td>1</td>\n",
       "      <td>0.000000</td>\n",
       "      <td>0.000000</td>\n",
       "      <td>1.542096</td>\n",
       "      <td>0.000000</td>\n",
       "      <td>0.896557</td>\n",
       "      <td>0.049978</td>\n",
       "      <td>0.000000</td>\n",
       "      <td>0</td>\n",
       "      <td>0.117847</td>\n",
       "      <td>...</td>\n",
       "      <td>1.504220</td>\n",
       "      <td>0.622686</td>\n",
       "      <td>0.588427</td>\n",
       "      <td>0.524415</td>\n",
       "      <td>0.305426</td>\n",
       "      <td>0.386204</td>\n",
       "      <td>0.000000</td>\n",
       "      <td>0.000000</td>\n",
       "      <td>0.668196</td>\n",
       "      <td>Banana_Ripe</td>\n",
       "    </tr>\n",
       "    <tr>\n",
       "      <th>2</th>\n",
       "      <td>2</td>\n",
       "      <td>0.000000</td>\n",
       "      <td>0.000000</td>\n",
       "      <td>1.098595</td>\n",
       "      <td>0.571866</td>\n",
       "      <td>0.500355</td>\n",
       "      <td>0.000000</td>\n",
       "      <td>0.000000</td>\n",
       "      <td>0</td>\n",
       "      <td>0.493137</td>\n",
       "      <td>...</td>\n",
       "      <td>1.169341</td>\n",
       "      <td>0.913239</td>\n",
       "      <td>0.064404</td>\n",
       "      <td>0.531270</td>\n",
       "      <td>0.000000</td>\n",
       "      <td>0.471604</td>\n",
       "      <td>0.000000</td>\n",
       "      <td>0.000000</td>\n",
       "      <td>0.658250</td>\n",
       "      <td>Mango_Raw</td>\n",
       "    </tr>\n",
       "    <tr>\n",
       "      <th>3</th>\n",
       "      <td>3</td>\n",
       "      <td>0.000000</td>\n",
       "      <td>0.101666</td>\n",
       "      <td>1.159194</td>\n",
       "      <td>0.599216</td>\n",
       "      <td>0.893206</td>\n",
       "      <td>0.000000</td>\n",
       "      <td>0.200139</td>\n",
       "      <td>0</td>\n",
       "      <td>0.645675</td>\n",
       "      <td>...</td>\n",
       "      <td>0.560686</td>\n",
       "      <td>1.243676</td>\n",
       "      <td>0.432523</td>\n",
       "      <td>0.701881</td>\n",
       "      <td>0.000000</td>\n",
       "      <td>0.589985</td>\n",
       "      <td>0.000000</td>\n",
       "      <td>0.000000</td>\n",
       "      <td>0.591165</td>\n",
       "      <td>Leeche_Raw</td>\n",
       "    </tr>\n",
       "    <tr>\n",
       "      <th>4</th>\n",
       "      <td>4</td>\n",
       "      <td>0.000000</td>\n",
       "      <td>0.000000</td>\n",
       "      <td>1.178603</td>\n",
       "      <td>0.362568</td>\n",
       "      <td>0.577602</td>\n",
       "      <td>0.000000</td>\n",
       "      <td>0.000000</td>\n",
       "      <td>0</td>\n",
       "      <td>0.079862</td>\n",
       "      <td>...</td>\n",
       "      <td>1.206032</td>\n",
       "      <td>0.736831</td>\n",
       "      <td>0.345906</td>\n",
       "      <td>0.878515</td>\n",
       "      <td>0.119000</td>\n",
       "      <td>0.261441</td>\n",
       "      <td>0.000000</td>\n",
       "      <td>0.000000</td>\n",
       "      <td>0.458905</td>\n",
       "      <td>Mango_Ripe</td>\n",
       "    </tr>\n",
       "    <tr>\n",
       "      <th>...</th>\n",
       "      <td>...</td>\n",
       "      <td>...</td>\n",
       "      <td>...</td>\n",
       "      <td>...</td>\n",
       "      <td>...</td>\n",
       "      <td>...</td>\n",
       "      <td>...</td>\n",
       "      <td>...</td>\n",
       "      <td>...</td>\n",
       "      <td>...</td>\n",
       "      <td>...</td>\n",
       "      <td>...</td>\n",
       "      <td>...</td>\n",
       "      <td>...</td>\n",
       "      <td>...</td>\n",
       "      <td>...</td>\n",
       "      <td>...</td>\n",
       "      <td>...</td>\n",
       "      <td>...</td>\n",
       "      <td>...</td>\n",
       "      <td>...</td>\n",
       "    </tr>\n",
       "    <tr>\n",
       "      <th>1211</th>\n",
       "      <td>1211</td>\n",
       "      <td>0.000000</td>\n",
       "      <td>0.364963</td>\n",
       "      <td>0.770978</td>\n",
       "      <td>0.570945</td>\n",
       "      <td>0.996824</td>\n",
       "      <td>0.066661</td>\n",
       "      <td>0.000000</td>\n",
       "      <td>0</td>\n",
       "      <td>0.727390</td>\n",
       "      <td>...</td>\n",
       "      <td>0.317000</td>\n",
       "      <td>0.844568</td>\n",
       "      <td>0.084291</td>\n",
       "      <td>0.399840</td>\n",
       "      <td>0.225693</td>\n",
       "      <td>0.214918</td>\n",
       "      <td>0.000000</td>\n",
       "      <td>0.000000</td>\n",
       "      <td>0.356400</td>\n",
       "      <td>Strawberry_Ripe</td>\n",
       "    </tr>\n",
       "    <tr>\n",
       "      <th>1212</th>\n",
       "      <td>1212</td>\n",
       "      <td>0.083656</td>\n",
       "      <td>0.111407</td>\n",
       "      <td>1.753287</td>\n",
       "      <td>0.000000</td>\n",
       "      <td>1.197256</td>\n",
       "      <td>0.117919</td>\n",
       "      <td>0.000000</td>\n",
       "      <td>0</td>\n",
       "      <td>0.000000</td>\n",
       "      <td>...</td>\n",
       "      <td>1.114398</td>\n",
       "      <td>0.659943</td>\n",
       "      <td>0.000000</td>\n",
       "      <td>0.457870</td>\n",
       "      <td>0.405808</td>\n",
       "      <td>0.000000</td>\n",
       "      <td>0.342428</td>\n",
       "      <td>0.000000</td>\n",
       "      <td>0.019390</td>\n",
       "      <td>Banana_Ripe</td>\n",
       "    </tr>\n",
       "    <tr>\n",
       "      <th>1213</th>\n",
       "      <td>1213</td>\n",
       "      <td>0.000000</td>\n",
       "      <td>0.000000</td>\n",
       "      <td>1.545725</td>\n",
       "      <td>0.000000</td>\n",
       "      <td>0.842485</td>\n",
       "      <td>0.000000</td>\n",
       "      <td>0.000000</td>\n",
       "      <td>0</td>\n",
       "      <td>0.087607</td>\n",
       "      <td>...</td>\n",
       "      <td>1.490054</td>\n",
       "      <td>0.883849</td>\n",
       "      <td>0.589065</td>\n",
       "      <td>0.644103</td>\n",
       "      <td>0.194427</td>\n",
       "      <td>0.426330</td>\n",
       "      <td>0.000000</td>\n",
       "      <td>0.000000</td>\n",
       "      <td>0.764020</td>\n",
       "      <td>Banana_Ripe</td>\n",
       "    </tr>\n",
       "    <tr>\n",
       "      <th>1214</th>\n",
       "      <td>1214</td>\n",
       "      <td>0.000000</td>\n",
       "      <td>0.000000</td>\n",
       "      <td>1.194037</td>\n",
       "      <td>0.969926</td>\n",
       "      <td>0.499340</td>\n",
       "      <td>0.055789</td>\n",
       "      <td>0.000000</td>\n",
       "      <td>0</td>\n",
       "      <td>0.221447</td>\n",
       "      <td>...</td>\n",
       "      <td>0.987144</td>\n",
       "      <td>0.645109</td>\n",
       "      <td>0.113367</td>\n",
       "      <td>0.877268</td>\n",
       "      <td>0.000000</td>\n",
       "      <td>0.175457</td>\n",
       "      <td>0.000000</td>\n",
       "      <td>0.000000</td>\n",
       "      <td>0.367878</td>\n",
       "      <td>Guava_Ripe</td>\n",
       "    </tr>\n",
       "    <tr>\n",
       "      <th>1215</th>\n",
       "      <td>1215</td>\n",
       "      <td>0.000000</td>\n",
       "      <td>0.000000</td>\n",
       "      <td>1.020402</td>\n",
       "      <td>1.107121</td>\n",
       "      <td>0.361440</td>\n",
       "      <td>0.000000</td>\n",
       "      <td>0.000000</td>\n",
       "      <td>0</td>\n",
       "      <td>0.026102</td>\n",
       "      <td>...</td>\n",
       "      <td>0.823649</td>\n",
       "      <td>0.879483</td>\n",
       "      <td>0.406130</td>\n",
       "      <td>0.734420</td>\n",
       "      <td>0.000000</td>\n",
       "      <td>0.075351</td>\n",
       "      <td>0.000000</td>\n",
       "      <td>0.000000</td>\n",
       "      <td>0.316971</td>\n",
       "      <td>Guava_Ripe</td>\n",
       "    </tr>\n",
       "  </tbody>\n",
       "</table>\n",
       "<p>1216 rows × 4098 columns</p>\n",
       "</div>"
      ],
      "text/plain": [
       "        ID        n0        n1        n2        n3        n4        n5  \\\n",
       "0        0  0.000000  0.000000  1.272801  0.290501  0.581446  0.000000   \n",
       "1        1  0.000000  0.000000  1.542096  0.000000  0.896557  0.049978   \n",
       "2        2  0.000000  0.000000  1.098595  0.571866  0.500355  0.000000   \n",
       "3        3  0.000000  0.101666  1.159194  0.599216  0.893206  0.000000   \n",
       "4        4  0.000000  0.000000  1.178603  0.362568  0.577602  0.000000   \n",
       "...    ...       ...       ...       ...       ...       ...       ...   \n",
       "1211  1211  0.000000  0.364963  0.770978  0.570945  0.996824  0.066661   \n",
       "1212  1212  0.083656  0.111407  1.753287  0.000000  1.197256  0.117919   \n",
       "1213  1213  0.000000  0.000000  1.545725  0.000000  0.842485  0.000000   \n",
       "1214  1214  0.000000  0.000000  1.194037  0.969926  0.499340  0.055789   \n",
       "1215  1215  0.000000  0.000000  1.020402  1.107121  0.361440  0.000000   \n",
       "\n",
       "            n6  n7        n8  ...     n4087     n4088     n4089     n4090  \\\n",
       "0     0.000000   0  0.000000  ...  1.645888  0.869640  0.302432  0.953719   \n",
       "1     0.000000   0  0.117847  ...  1.504220  0.622686  0.588427  0.524415   \n",
       "2     0.000000   0  0.493137  ...  1.169341  0.913239  0.064404  0.531270   \n",
       "3     0.200139   0  0.645675  ...  0.560686  1.243676  0.432523  0.701881   \n",
       "4     0.000000   0  0.079862  ...  1.206032  0.736831  0.345906  0.878515   \n",
       "...        ...  ..       ...  ...       ...       ...       ...       ...   \n",
       "1211  0.000000   0  0.727390  ...  0.317000  0.844568  0.084291  0.399840   \n",
       "1212  0.000000   0  0.000000  ...  1.114398  0.659943  0.000000  0.457870   \n",
       "1213  0.000000   0  0.087607  ...  1.490054  0.883849  0.589065  0.644103   \n",
       "1214  0.000000   0  0.221447  ...  0.987144  0.645109  0.113367  0.877268   \n",
       "1215  0.000000   0  0.026102  ...  0.823649  0.879483  0.406130  0.734420   \n",
       "\n",
       "         n4091     n4092     n4093     n4094     n4095         category  \n",
       "0     0.022545  0.498048  0.000000  0.034988  0.692382      Orange_Ripe  \n",
       "1     0.305426  0.386204  0.000000  0.000000  0.668196      Banana_Ripe  \n",
       "2     0.000000  0.471604  0.000000  0.000000  0.658250        Mango_Raw  \n",
       "3     0.000000  0.589985  0.000000  0.000000  0.591165       Leeche_Raw  \n",
       "4     0.119000  0.261441  0.000000  0.000000  0.458905       Mango_Ripe  \n",
       "...        ...       ...       ...       ...       ...              ...  \n",
       "1211  0.225693  0.214918  0.000000  0.000000  0.356400  Strawberry_Ripe  \n",
       "1212  0.405808  0.000000  0.342428  0.000000  0.019390      Banana_Ripe  \n",
       "1213  0.194427  0.426330  0.000000  0.000000  0.764020      Banana_Ripe  \n",
       "1214  0.000000  0.175457  0.000000  0.000000  0.367878       Guava_Ripe  \n",
       "1215  0.000000  0.075351  0.000000  0.000000  0.316971       Guava_Ripe  \n",
       "\n",
       "[1216 rows x 4098 columns]"
      ]
     },
     "execution_count": 3,
     "metadata": {},
     "output_type": "execute_result"
    }
   ],
   "source": [
    "df"
   ]
  },
  {
   "cell_type": "code",
   "execution_count": 4,
   "metadata": {},
   "outputs": [],
   "source": [
    "img = df.iloc[0, 1:-1]"
   ]
  },
  {
   "cell_type": "code",
   "execution_count": 5,
   "metadata": {},
   "outputs": [
    {
     "name": "stderr",
     "output_type": "stream",
     "text": [
      "<ipython-input-5-12447cc42592>:1: FutureWarning: Dropping of nuisance columns in DataFrame reductions (with 'numeric_only=None') is deprecated; in a future version this will raise TypeError.  Select only valid columns before calling the reduction.\n",
      "  df.mean(axis=1)\n"
     ]
    },
    {
     "data": {
      "text/plain": [
       "0       0.475165\n",
       "1       0.456746\n",
       "2       0.471169\n",
       "3       0.461023\n",
       "4       0.512374\n",
       "          ...   \n",
       "1211    0.786175\n",
       "1212    0.776599\n",
       "1213    0.761384\n",
       "1214    0.824334\n",
       "1215    0.813388\n",
       "Length: 1216, dtype: float64"
      ]
     },
     "execution_count": 5,
     "metadata": {},
     "output_type": "execute_result"
    }
   ],
   "source": [
    "df.mean(axis=1)"
   ]
  },
  {
   "cell_type": "code",
   "execution_count": 6,
   "metadata": {},
   "outputs": [
    {
     "data": {
      "text/plain": [
       "((1216, 4096), (1216,))"
      ]
     },
     "execution_count": 6,
     "metadata": {},
     "output_type": "execute_result"
    }
   ],
   "source": [
    "X, Y = df.iloc[:,1:-1], df.iloc[:,-1]\n",
    "X.shape, Y.shape"
   ]
  },
  {
   "cell_type": "code",
   "execution_count": 7,
   "metadata": {},
   "outputs": [
    {
     "data": {
      "text/plain": [
       "(array(['Orange_Ripe', 'Banana_Ripe', 'Mango_Raw', 'Leeche_Raw',\n",
       "        'Mango_Ripe', 'Papaya_Ripe', 'Guava_Ripe', 'Apple_Ripe',\n",
       "        'Pomengranate_Ripe', 'Guava_Raw', 'Strawberry_Raw', 'Apple_Raw',\n",
       "        'Leeche_Ripe', 'Papaya_Raw', 'Strawberry_Ripe', 'Pomengranate_Raw',\n",
       "        'Coconut_Ripe', 'Banana_Raw', 'Coconut_Raw', 'Orange_Raw'],\n",
       "       dtype=object),\n",
       " 20)"
      ]
     },
     "execution_count": 7,
     "metadata": {},
     "output_type": "execute_result"
    }
   ],
   "source": [
    "Y.unique(), len(Y.unique())"
   ]
  },
  {
   "cell_type": "code",
   "execution_count": 8,
   "metadata": {},
   "outputs": [
    {
     "data": {
      "image/png": "[encoded data removed]",
      "text/plain": [
       "<Figure size 432x288 with 1 Axes>"
      ]
     },
     "metadata": {
      "needs_background": "light"
     },
     "output_type": "display_data"
    }
   ],
   "source": [
    "import matplotlib.pyplot as plt\n",
    "import numpy as np\n",
    "\n",
    "plt.bar(*np.unique(Y, return_counts=True))\n",
    "plt.savefig()"
   ]
  },
  {
   "cell_type": "code",
   "execution_count": 9,
   "metadata": {},
   "outputs": [],
   "source": [
    "# One-hot encode columns whose dtype is string\n",
    "for col in X.columns:\n",
    "    if X[col].dtype == object:\n",
    "        print(\"YES\")\n",
    "\n",
    "# So every column is float dtype"
   ]
  },
  {
   "cell_type": "code",
   "execution_count": 11,
   "metadata": {},
   "outputs": [],
   "source": [
    "from sklearn.discriminant_analysis import LinearDiscriminantAnalysis\n",
    "\n",
    "pca = LinearDiscriminantAnalysis(n_components=2)\n",
    "X = pca.fit_transform(X, Y)\n"
   ]
  },
  {
   "cell_type": "code",
   "execution_count": 12,
   "metadata": {},
   "outputs": [
    {
     "data": {
      "image/png": "[encoded data removed]",
      "text/plain": [
       "<Figure size 432x288 with 1 Axes>"
      ]
     },
     "metadata": {
      "needs_background": "light"
     },
     "output_type": "display_data"
    }
   ],
   "source": [
    "classes = Y.unique()\n",
    "for cl in classes:\n",
    "    plt.scatter(X[Y==cl][0], X[Y==cl][1])"
   ]
  },
  {
   "cell_type": "code",
   "execution_count": null,
   "metadata": {},
   "outputs": [],
   "source": []
  }
 ],
 "metadata": {
  "kernelspec": {
   "display_name": "pytorch",
   "language": "python",
   "name": "python3"
  },
  "language_info": {
   "codemirror_mode": {
    "name": "ipython",
    "version": 3
   },
   "file_extension": ".py",
   "mimetype": "text/x-python",
   "name": "python",
   "nbconvert_exporter": "python",
   "pygments_lexer": "ipython3",
   "version": "3.9.16"
  },
  "orig_nbformat": 4,
  "vscode": {
   "interpreter": {
    "hash": "bd6d6e50f2d0c3fee8d668e65f51ad45ff66746609bf9608e4f2fd0bbb146696"
   }
  }
 },
 "nbformat": 4,
 "nbformat_minor": 2
}
